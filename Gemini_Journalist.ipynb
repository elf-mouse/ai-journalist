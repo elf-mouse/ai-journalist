{
 "cells": [
  {
   "cell_type": "markdown",
   "metadata": {
    "colab_type": "text",
    "id": "view-in-github"
   },
   "source": [
    "<a href=\"https://colab.research.google.com/github/mshumer/ai-journalist/blob/main/Claude_Journalist.ipynb\" target=\"_parent\"><img src=\"https://colab.research.google.com/assets/colab-badge.svg\" alt=\"Open In Colab\"/></a>"
   ]
  },
  {
   "cell_type": "code",
   "execution_count": 1,
   "metadata": {
    "id": "KwLlmf_8EikO"
   },
   "outputs": [
    {
     "name": "stdout",
     "output_type": "stream",
     "text": [
      "Requirement already satisfied: newspaper3k in /opt/homebrew/anaconda3/lib/python3.11/site-packages (0.2.8)\n",
      "Requirement already satisfied: beautifulsoup4>=4.4.1 in /opt/homebrew/anaconda3/lib/python3.11/site-packages (from newspaper3k) (4.12.2)\n",
      "Requirement already satisfied: Pillow>=3.3.0 in /opt/homebrew/anaconda3/lib/python3.11/site-packages (from newspaper3k) (10.3.0)\n",
      "Requirement already satisfied: PyYAML>=3.11 in /opt/homebrew/anaconda3/lib/python3.11/site-packages (from newspaper3k) (6.0.1)\n",
      "Requirement already satisfied: cssselect>=0.9.2 in /opt/homebrew/anaconda3/lib/python3.11/site-packages (from newspaper3k) (1.2.0)\n",
      "Requirement already satisfied: lxml>=3.6.0 in /opt/homebrew/anaconda3/lib/python3.11/site-packages (from newspaper3k) (4.9.3)\n",
      "Requirement already satisfied: nltk>=3.2.1 in /opt/homebrew/anaconda3/lib/python3.11/site-packages (from newspaper3k) (3.8.1)\n",
      "Requirement already satisfied: requests>=2.10.0 in /opt/homebrew/anaconda3/lib/python3.11/site-packages (from newspaper3k) (2.31.0)\n",
      "Requirement already satisfied: feedparser>=5.2.1 in /opt/homebrew/anaconda3/lib/python3.11/site-packages (from newspaper3k) (6.0.10)\n",
      "Requirement already satisfied: tldextract>=2.0.1 in /opt/homebrew/anaconda3/lib/python3.11/site-packages (from newspaper3k) (3.2.0)\n",
      "Requirement already satisfied: feedfinder2>=0.0.4 in /opt/homebrew/anaconda3/lib/python3.11/site-packages (from newspaper3k) (0.0.4)\n",
      "Requirement already satisfied: jieba3k>=0.35.1 in /opt/homebrew/anaconda3/lib/python3.11/site-packages (from newspaper3k) (0.35.1)\n",
      "Requirement already satisfied: python-dateutil>=2.5.3 in /opt/homebrew/anaconda3/lib/python3.11/site-packages (from newspaper3k) (2.8.2)\n",
      "Requirement already satisfied: tinysegmenter==0.3 in /opt/homebrew/anaconda3/lib/python3.11/site-packages (from newspaper3k) (0.3)\n",
      "Requirement already satisfied: soupsieve>1.2 in /opt/homebrew/anaconda3/lib/python3.11/site-packages (from beautifulsoup4>=4.4.1->newspaper3k) (2.5)\n",
      "Requirement already satisfied: six in /opt/homebrew/anaconda3/lib/python3.11/site-packages (from feedfinder2>=0.0.4->newspaper3k) (1.16.0)\n",
      "Requirement already satisfied: sgmllib3k in /opt/homebrew/anaconda3/lib/python3.11/site-packages (from feedparser>=5.2.1->newspaper3k) (1.0.0)\n",
      "Requirement already satisfied: click in /opt/homebrew/anaconda3/lib/python3.11/site-packages (from nltk>=3.2.1->newspaper3k) (8.1.7)\n",
      "Requirement already satisfied: joblib in /opt/homebrew/anaconda3/lib/python3.11/site-packages (from nltk>=3.2.1->newspaper3k) (1.2.0)\n",
      "Requirement already satisfied: regex>=2021.8.3 in /opt/homebrew/anaconda3/lib/python3.11/site-packages (from nltk>=3.2.1->newspaper3k) (2023.10.3)\n",
      "Requirement already satisfied: tqdm in /opt/homebrew/anaconda3/lib/python3.11/site-packages (from nltk>=3.2.1->newspaper3k) (4.66.2)\n",
      "Requirement already satisfied: charset-normalizer<4,>=2 in /opt/homebrew/anaconda3/lib/python3.11/site-packages (from requests>=2.10.0->newspaper3k) (2.0.4)\n",
      "Requirement already satisfied: idna<4,>=2.5 in /opt/homebrew/anaconda3/lib/python3.11/site-packages (from requests>=2.10.0->newspaper3k) (3.4)\n",
      "Requirement already satisfied: urllib3<3,>=1.21.1 in /opt/homebrew/anaconda3/lib/python3.11/site-packages (from requests>=2.10.0->newspaper3k) (2.2.1)\n",
      "Requirement already satisfied: certifi>=2017.4.17 in /opt/homebrew/anaconda3/lib/python3.11/site-packages (from requests>=2.10.0->newspaper3k) (2024.2.2)\n",
      "Requirement already satisfied: requests-file>=1.4 in /opt/homebrew/anaconda3/lib/python3.11/site-packages (from tldextract>=2.0.1->newspaper3k) (1.5.1)\n",
      "Requirement already satisfied: filelock>=3.0.8 in /opt/homebrew/anaconda3/lib/python3.11/site-packages (from tldextract>=2.0.1->newspaper3k) (3.13.1)\n"
     ]
    }
   ],
   "source": [
    "!pip install newspaper3k\n",
    "!pip install -qU google-generativeai"
   ]
  },
  {
   "cell_type": "code",
   "execution_count": 2,
   "metadata": {
    "id": "7t2ITaBSCj7n"
   },
   "outputs": [
    {
     "name": "stdout",
     "output_type": "stream",
     "text": [
      "Enter a topic to write about:  中国大学生\n",
      "After the initial draft, do you want an automatic edit? This may improve performance, but is slightly unreliable. Answer 'yes' or 'no'. no\n"
     ]
    },
    {
     "name": "stdout",
     "output_type": "stream",
     "text": [
      "\n",
      "Search Terms for '中国大学生':\n",
      "中国大学生就业形势, 中国大学生心理健康, 中国大学生创新创业\n"
     ]
    },
    {
     "name": "stderr",
     "output_type": "stream",
     "text": [
      "/opt/homebrew/anaconda3/lib/python3.11/site-packages/urllib3/connectionpool.py:1103: InsecureRequestWarning: Unverified HTTPS request is being made to host 'serpapi.com'. Adding certificate verification is strongly advised. See: https://urllib3.readthedocs.io/en/latest/advanced-usage.html#tls-warnings\n",
      "  warnings.warn(\n",
      "/opt/homebrew/anaconda3/lib/python3.11/site-packages/urllib3/connectionpool.py:1103: InsecureRequestWarning: Unverified HTTPS request is being made to host 'serpapi.com'. Adding certificate verification is strongly advised. See: https://urllib3.readthedocs.io/en/latest/advanced-usage.html#tls-warnings\n",
      "  warnings.warn(\n",
      "/opt/homebrew/anaconda3/lib/python3.11/site-packages/urllib3/connectionpool.py:1103: InsecureRequestWarning: Unverified HTTPS request is being made to host 'serpapi.com'. Adding certificate verification is strongly advised. See: https://urllib3.readthedocs.io/en/latest/advanced-usage.html#tls-warnings\n",
      "  warnings.warn(\n"
     ]
    },
    {
     "name": "stdout",
     "output_type": "stream",
     "text": [
      "Relevant URLs to read: ['https://www.voachinese.com/a/china-s-11-6m-graduates-face-a-jobs-market-with-no-jobs-20230601/7118431.html', 'https://www.bbc.com/zhongwen/simp/world-65995537', 'https://cn.nytimes.com/china/20230809/china-youth-unemployment/', 'https://www.ncss.cn/ncss/jydt/jy/202304/20230413/2275751544.html', 'https://m.jiemian.com/article/8611743.html', 'https://dxs.moe.gov.cn/zx/a/xl_xlyr_xlyral/230418/1834625.shtml', 'https://journal.psych.ac.cn/xlkxjz/CN/10.3724/SP.J.1042.2022.00991', 'http://edu.people.com.cn/n1/2023/0327/c1006-32651704.html', 'http://www.xinhuanet.com/health/20230525/89573799dace412280322dc8a83a4faf/c.html', 'https://m.thepaper.cn/newsDetail_forward_22596360?commTag=true', 'https://www.chinanews.com/sh/2023/03-27/9979195.shtml', 'https://baike.baidu.com/item/%E5%A4%A7%E5%AD%A6%E7%94%9F%E5%BF%83%E7%90%86%E5%81%A5%E5%BA%B7/7332039', 'http://www.moe.gov.cn/srcsite/A08/s5672/202305/t20230530_1061991.html', 'https://baike.baidu.com/item/%E4%B8%AD%E5%9B%BD%E5%9B%BD%E9%99%85%E2%80%9C%E4%BA%92%E8%81%94%E7%BD%91%2B%E2%80%9D%E5%A4%A7%E5%AD%A6%E7%94%9F%E5%88%9B%E6%96%B0%E5%88%9B%E4%B8%9A%E5%A4%A7%E8%B5%9B/62870590', 'https://www.gov.cn/zhengce/content/2021-10/12/content_5642037.htm', 'http://www.moe.gov.cn/srcsite/A08/s5672/202204/t20220412_616047.html']\n"
     ]
    },
    {
     "name": "stderr",
     "output_type": "stream",
     "text": [
      "Building prefix dict from /opt/homebrew/anaconda3/lib/python3.11/site-packages/jieba/dict.txt ...\n",
      "Dumping model to file cache /var/folders/v7/qqxlbg1n5912djxtm8vks61w0000gn/T/jieba.cache\n",
      "Loading model cost 0.7083470821380615 seconds.\n",
      "Prefix dict has been built succesfully.\n"
     ]
    },
    {
     "name": "stdout",
     "output_type": "stream",
     "text": [
      "Articles to reference: ['随着中国16至24岁青年人的失业率今年4月达到创纪录的20.4%，今年即将毕业的1158万名大学毕业生将面临一个越来越严峻的就业市场，或“一个没有职位的就业市场”。\\n\\n\\n\\n英国卫报周三报道说，接受过高等教育的失业青年的问题变得如此严峻，许多人开始将自己自讽为孔乙己，中国最伟大的作家之一的鲁迅笔下的一个小说角色。孔乙己曾是“读书人”，后来成为乞丐，经常受到当地人的嘲笑。\\n\\n\\n\\n在中国经济复苏乏力之际，高等院校的毕业生面临求职难的困境，许多人借孔乙己自嘲寒窗苦读多年，却找不到一个合适的工作，感叹“学历是下不来的高台，更是孔乙己脱不掉的长衫”。\\n\\n\\n\\n报道说，随后，中国官媒批评这种“孔乙己现象”，称孔乙己之所以陷入生活困境，不是因为读过书，而是放不下读书人的架子，不愿意靠劳动改变自己的处境，当代的青年不应该被困在“长衫”里。一个评论还批评许多青年人不愿意做低于他们预期的工作。\\n\\n路透社表示，所有人都在这个仍然是世界上增长最快的主要经济体之一的国家竞争就业机会，但中国以制造业为主的结构，越来越不符合年轻一代的期望。而最受中国毕业生欢迎的行业，如科技、教育、房地产和金融，近年来都面临监管部门的打击。\\n\\n\\n\\n经济学家预估，大学毕业生过剩和劳动力老龄化导致工厂劳动力短缺，加剧了中国就业市场的失衡，未来几年这类例子将变得越来越普遍。\\n\\n\\n\\n另外，就业机会与谋职者专业的不匹配也是造成青年人失业率高企的因素。据美国投行高盛数据，2018到2021年，体育和教育方面的毕业生人数增长了20%多，而制造业专业则增长很小。\\n\\n\\n\\n尽管一些监管措施已被取消，但商业信心恢复缓慢。今年1至4月民间固定资产投资仅同比增长0.4%，国有控股投资则增长9.4%。\\n\\n\\n\\n由于国内和国际需求减弱，中国今年5月份的工业活动收缩得比预期要快，为政策制定者支撑不平衡的经济复苏施加了更多的压力，更令今年毕业生的就业前景堪忧。\\n\\n中国国家统计局周三发布的数据显示，官方的制造业采购经理指数（PMI）5月份跌至五个月来的新低，为48.8，比4月份的49.2下降0.4%，低于50的扩张和收缩临界点，也低于49.4的微增预期，表明制造业景气水平小幅回落。\\n\\n\\n\\n服务行业的活动5月份以四个月来最慢的速度扩张，官方非制造业采购经理指数PMI从上个月的56.4下跌至54.5，下降幅度为1.9%，但仍高于临界点。\\n\\n\\n\\n北京已敦促国有企业招聘更多毕业生，并开始扩建职业培训学校，以填补先进制造业的短缺。包括上海在内的一些地方政府，为雇用2023年这届毕业生的企业，提供就业补贴。其他也开始了招聘热潮。\\n\\n\\n\\n处于中国疫情后复苏最前沿的服务行业，提供的高技能职位很少。\\n\\n\\n\\n有分析表示，许多白领服务业的职位已经消失，新增的工作机会主要是在不需要高等教育的领域，比如餐饮和旅游业。', '脱下“孔乙己的长衫”：中国就业形势愈发严峻，年轻人从“蓝领”工作寻出路\\n\\n常思颖\\n\\nBBC中文\\n\\n2023年6月27日\\n\\n26岁的张静静在中国重庆农村出生长大，本着读书改变命运的想法寒窗苦读，考上大学，成为村里人的骄傲。但在2019年大学毕业后，她发现不但没有获得一技之长，甚至在经济下行的情况下连期望的薪资也达不到。\\n\\n她大学读的市场营销专业，毕业后进入房地产行业做销售，这是近年来面临转型压力最大的行业之一。在经历了三年坎坷的就业经历后，她身心俱疲。一个偶然的机会，她接触到家政行业，从中看到一些希望。\\n\\n“当时我已经是抱着相当崩溃和‘摆烂’的心态，我觉得随便找个工作能养活自己就行了”，张静静说。但她发现自己热爱这一行。\\n\\n她的工作是给5岁左右的学龄前小孩当住家保姆兼家庭教师，大部分时间陪小孩玩耍，有时间也帮家里的老人做点家务。脱下西装，换上便装，她成了一名“蓝领”劳动者。\\n\\n自2020年以来，中国青年人失业率连续几年处于较高水平。根据官方6月发布的最新数据，16至24岁青年失业率连续两月创2018年有统计以来新高，升至20.8%。越来越多中国年轻人找不到合适的工作，不得不选择一份需要体力劳动的“蓝领”的工作，包括送外卖、去餐厅当服务员、做网约车司机等等。\\n\\n“对于整个中国社会来说，大学毕业去做家政，代表了人力资源错配进一步加剧”，新加坡国立大学李光耀公共政策学院助理教授陆曦说。\\n\\n高失业率导致社会贫富差距变大，对于家政行业，尤其是包括负责教学的高端服务来说，的确是提供了不少就业机会。但相比香港、新加坡等发达经济体，有需要的家庭通常会选择外籍劳工去做家政。\\n\\n“这遵循经济学里的比较优势原理，因为外劳的成本低，他们在这方面有更多的比较优势，所以雇佣他们来做，对于提升整体社会经济效率有很大帮助”，陆曦解释。\\n\\n图像来源，Zhang Jingjing 图像加注文字， 26岁的张静静再育儿中心实习。\\n\\n从“白领”到“蓝领”\\n\\n中国目前对“白领”人士的需求正在减少。据经济学人智库估计，2020年，雇佣主体是大学生的专业服务岗位约占青年就业机会总数的40%，是十年前的两倍。但是，由于近几年来中国政府着手监管房地产、教培、数字经济、金融和娱乐等多个行业，有相当一部分岗位已经不存在了。\\n\\n根据中国招聘网站智联招聘，2021年，仅房地产、辅导和科技公司的招聘信息就占了毕业生所有招聘信息的一半以上。一年后，这一数字降至26%。\\n\\n与此同时，中国经济正趋向以服务业为导向，2020年的人口普查显示，约75%的青年雇员在服务业工作，但中国在过去十年里创造出来的许多服务业岗位都是较低端职位，比如外卖员、餐厅服务员等。对于许多受过教育的年轻人所追求的高工资、高技能的岗位，并没有很多。\\n\\n张静静之前所在的房地产行业，正是近年来受政府监管影响最严重的行业之一。政府反复强调，“房子是用来住的，不是用来抄的”。监管机构对开发商贷款设定了上限，并对土地拍卖进行了全面改革。这影响到这个行业的财务业绩，许多房企压力爆棚。\\n\\n为了拼业绩，张静静每天要工作10个小时以上，作息不规律，晚上只睡五、六个小时，长期下来令吃不消，两年后辞职了。之后她曾尝试考研，但没有成功。\\n\\n2021年底，她在餐饮行业找到一份销售工作，但再次遇上低迷的市场。彼时疫情还没有结束，餐饮业没有完全恢复，加上小区动辄封控，她感到十分压抑。\\n\\n“相当崩溃，每天在家什么事做不了，睡眠不好，吃饭也没有胃口，整个心情很低沉”。四个月后，她辞职了。后来她又多次应聘其他工作，但都没有合适的。\\n\\n她曾羡慕公司的保洁阿姨，虽然一个月工资只有四、五千，但“没有什么精神压力，只不过是身体累点，还能买五险一金（五种社会保险福利），又能受到专业培训”。\\n\\n今年年初，一则家政行业的招聘广告吸引了张静静的注意， 月薪8千到1万，甚至打破了她对“蓝领”工作的想象。她抱着试一试的态度入行了。\\n\\n她的同事大部分是35岁至55岁，一部分从农村出来没有读过书，还有一些已经退休。这一行对于大学毕业的年轻人来说似乎有点大材小用，但张静静不这样看——她说不仅得到了专业技能培训，有助于在这一领域长期发展，还能在拿到专业证书和完成实习后拿到上万元的月薪。她目前在成都生活，这个薪资水平已经达到了她之前做销售时的提成。\\n\\n不过，并非所有“蓝领”工作都能实现这样的水平。根据中国新就业形态研究中心2022年发布的报告，中国蓝领劳动者整体平均收入为每月6000元左右。并且，“蓝领”群体依然面临部分公司工资发放不及时、待遇差、管理落后等问题。\\n\\n图像来源，Getty Images 图像加注文字， 越来越多中国年轻人找不到合适的工作，不得不选择一份需要体力劳动的\"蓝领\"的工作，包括送外卖。\\n\\n“猪站在风口都能起飞”\\n\\n也有年轻人在行业变革时主动选择离开，“自降身份”去做一些需要体力劳动的工作。\\n\\n29岁的陈陈（化名）2016年本科毕业后，在重庆从事与房地产配套的家电营销工作。时间一晃就是7年，但半年前，她从上一份工作中辞职，转行去做旧衣回收。\\n\\n收入比以前少了一半，而且还要厚着脸皮与底层工人竞争。\\n\\n她先是到住宅小区派发传单，也拿着大喇叭到居民楼下喊——“回收旧衣！”。这不禁让人联想到几十前较为贫困的中国，家里取暖靠蜂窝煤，时不时见到楼下有衣衫褴褛的老人，推着一板车的煤，大声喊着——“卖蜂窝煤啦！”也有回收矿泉水瓶和纸皮的人吆喝——“收破烂啦！”\\n\\n很难想象一位拥有大学本科文凭的年轻人能这样做。陈陈也曾自嘲地说，“我年纪轻轻就开始捡破烂了”，但内心里，她告诉自己：“我比别人少走40年弯路，他们老了还不是要捡破烂的。”\\n\\n图像来源，Chen Chen 图像加注文字， 陈陈在一个小区收到的旧衣服。\\n\\n陈陈觉得，这个行业有前景，因为当前中国对回收旧衣有很大的需求，尤其在工业相对发达的城市，衣服属于快销产品，淘汰得快，并且还没一个很有效率的组织来处理这些旧衣服。\\n\\n“不管穷人富人，都有需求”，她说，“猪站在风口都能起飞，人的选择往往比努力更重要一点。”\\n\\n过去几年里，她已经看到曾经从事的房地产行业走下坡路。 首先是上游的市场低迷，投资土地及买卖商品房的交易减少，于是导致需要购买家电的业主减少了，挤压了她的收益空间。她说，市场好的时候年收入能达到30多万，现在只剩一半。\\n\\n“如果已经知道这个行业处在‘红牌’市场了，那你还想着通过努力获取高额回报是不太可能的”，陈陈说。\\n\\n在她看来，以前上学期间，只要肯用功就能取得好成绩，拿到相应的学位，但这种思维并不适合当今的就业市场。\\n\\n图像来源，Getty Images 图像加注文字， 陈陈认为，旧衣回收行业在中国有前景。\\n\\n脱不掉的“长衫”\\n\\n有媒体指责年轻人，不愿意依靠劳动改变自身的处境。但年轻人有他们的不满。“当初是你们用‘知识改变命运’来鼓励我们学习的，如今大学毕业我们觉得就业困难，却被指责成放不下读书人的架子，不愿靠劳动改变自身的处境”——这句话被广泛引用。\\n\\n这些讨论的背后是高等教育的持续扩张以及严重贬值的学历。根据中国教育部，2023年全国高校毕业生预计达到1158万人，而2000年仅为100万人。20多年的时间里，高校毕业生增加了10倍多。这是中国历史上受教育程度最高的一代人。\\n\\n另一方面，本科学历与职业文凭的就业情况的差距正在缩小。2022年的数据显示，过去十年里，职业院校毕业生的就业率持续在90%以上。而在一些现代服务业，他们的收入和稳定性未必比本科生差。\\n\\n图像加注文字， “孔乙己的长衫”出自鲁迅的小说。\\n\\n重庆的张静静在找工作期间曾应聘到一家投资公司，但发现周围的同事连本科文凭都没有，主管还操着一口浓郁的四川口语。她想到自己曾经是农村走出的孩子，好不容易读到大学毕业，无法放下那份骄傲，几天之后便离职。\\n\\n“属于高不成低不就这样一个很尴尬的状态”，她说。当时的她就是那个“脱不下长衫”的人。\\n\\n有年轻人的确在尝试“脱掉长衫”，但结果并不理想。\\n\\n杭州的李小姐以前做文职工作，由于公司运营出现问题，今年3月失业。失业后她尝试到电影院做收银员。\\n\\n每天站立七个多小时，导致她的腿脚酸疼发胀。而且薪资极低，“站立一个小时还不够买一杯奶茶”。最重要的是，她觉得这份工作没有技术含量，未来更容易被淘汰。“有一种随时被替代的感觉”，她说。\\n\\n李小姐将自己的经历分享到个人社交账号上，并呼吁“孔乙己的长衫千万别脱”，收到上百条回应。留言大多是跟她有着类似经历的人，有去做外卖跑腿员的、去快餐店做服务员的……但很多因工作时间长、工资低、体力受不了等原因无法坚持。\\n\\n对于他们来说，从事“蓝领”工作只是就业失意下选择的一条短暂的退路，但不是出路。毕竟，并非所有“蓝领”工作都是新兴的朝阳产业，底层劳动者也有他们的艰辛。\\n\\n图像来源，Getty Images 图像加注文字， 根据中国教育部，2023年全国高校毕业生预计达到1158万人，而2000年仅为100万人。\\n\\n学历还有用吗？\\n\\n在做回收旧衣道路上寻找出路的陈陈说，她的同行中很多都没有学历，但她认为自己的学历并不多余。\\n\\n“许多同行会很早到小区里蹲点，能多收一点就多赚一点，但我不是为了赚钱而赚钱”，她说。\\n\\n她和合伙人想的更多是，如何积累更多的供货渠道，通过这些渠道把自己做成中间商，打通供应链，然后建立品牌和社群，在社交网络上宣传出去，最终自己当上老板。\\n\\n这个过程也用到了她之前积累下来的工作经验——如何在生产经营过程中利用供应、生产和销售三个阶段，让物流和资金不断流动、不断增值。\\n\\n“如果我没有上过学，没有做过之前的工作，可能就不会这么想，可能只会盯着眼前，想着今天又多收了100公斤”，陈陈说。\\n\\n图像来源，Getty Images\\n\\n不过，她并不建议大学毕业后直接去做体力活，因为“在身体非常劳累的情况下通常会减少对事情的探索和思考”。\\n\\n“即便是为了生存不得不去工厂里打螺钉，那也不能为了打螺钉而来，更多的是要去思考一个行业的运作，比如一颗螺钉在流水线上的生产效率怎样，或者螺钉产生作用的机械原理是什么。”\\n\\n陈陈在半年中已经大致了解了回收行业的运作，除了每天继续开车奔忙在收旧衣的路上，她已经和搭档开始琢磨怎样建立自己的品牌，以及怎样借助社交媒体平台进行推广。\\n\\n对于转行去做家政的张静静，她找到了自己的价值，也许这个时候“脱去长衫”才是合理的，她说“后悔没有早点入行”。她不再想着去考研，打算在这个行业多尝试几个岗位，同时好学英文，以后尝试走高端服务路线。', '在地处中国西南的重庆城市科技学院今年的毕业典礼上，毕业生们接受到的讯息不是往常那种叫他们追求梦想的豪言壮语，而是要学会面对严酷现实的忠告。\\n\\n数量空前的大学毕业生正在进入就业市场，令年轻人本已黯淡的就业前景进一步恶化。这进一步加深了阻碍世界第二大经济体恢复活力的最棘手问题之一。\\n\\n中国城镇16至24岁人口的失业率在6月份已上升到21.3%，创历史新高。随着又一波毕业生完成从大学生到求职者的正式转变，预计7月份的数字会更高。\\n\\n政府的政策制定者们在解决就业问题上困难重重，他们现已在依靠大学来做更多为毕业生找工作的事情。大学管理者的工作表现与找到工作的学生百分比挂钩。现在，政府鼓励校方高层走访企业，寻找就业机会。还出现了有些学生在校方高压下，用假的工作机会来安抚学校领导的情况。\\n\\n随着过去30年中国经济突飞猛进地发展，上大学的人数越来越多，许多人认为这是一条通向有前途职业的道路。据国家统计局的数据，高等院校每年的新生人数已从1992年的75.4万增加到了2022年的1010万。', '摘要：\\n\\n估计我国大学生心理健康问题的检出率, 能够为心理健康政策完善和教育活动开展提供证据支持。对2010~2020年我国大学生主要心理健康问题检出率及影响因素进行元分析, 结果表明, 睡眠问题、抑郁、自我伤害在大学生中较为突出; 近10年, 大学生焦虑、抑郁、睡眠问题和自杀未遂的检出率显著上升, 自我伤害的检出率显著下降; 测量工具、检出标准和检出时间是导致检出率大小不一的关键因素; 整体而言, 东北和中部地区大学生的心理健康情况优于西部和东部大学生; 性别、生源地、独生与否对大学生心理健康问题检出率的影响均不显著。未来应重视研制适合我国大学生的心理健康测评工具并确定检出标准, 同时据此积极开展心理行为问题的筛查与控制。\\n\\n关键词: 心理健康, 大学生, 检出率, 元分析 Abstract: College students are a huge part and an important member of the young people. Their physical and mental health not only directly affects their own long-term development, but also has a significant influence on the future of the nation. Therefore, the mental health of college students has become the focus of families, schools and even the whole society. In recent years, some studies have conducted meta-analyses on the prevalence of a certain mental health problem (such as depression and sleep problem) among college students in China, but such studies cannot reflect the mental health status of college students comprehensively. And some of the previous studies cannot reflect the current status of contemporary college students’ mental health. Furthermore, the selection of moderator variables was not comprehensive enough to reveal the key factors affecting the prevalence. Therefore, we employed a meta-analysis in this study to estimate the prevalence of typical mental health problems among college students in mainland China from 2010 to 2020, and the moderating effects of publication year, measurement tools and detection standards, detection time, region, birthplace, only child or not were further analyzed. For the selection of indicators, mental health problems were divided into two categories: internalizing problems and externalizing problems. The indicators of internalizing problems include anxiety, depression, sleep problem, somatization, and suicidal ideation, while the indicators of externalizing problems include nonsuicidal self-injury and suicide attempt.\\n\\nThrough the process of literature search and selection, 128 studies (136 effect sizes) of anxiety, 237 studies (244 effect sizes) of depression, 56 studies (58 effect sizes) of sleep problem, 49 studies (49 effect sizes) of somatization, 31 studies (31 effect sizes) of nonsuicidal self-injury, 51 studies (51 effect sizes) of suicide ideation, and 8 studies (8 effect sizes) of suicide attempt were included in this study. Homogeneity test indicated that random effects model was appropriate for the meta-analysis. The p-curve analysis illustrated no publication bias. Ultimately, the results of the main effect test showed that the prevalence rates of sleep problem, depression, nonsuicidal self-injury, anxiety, suicidal ideation, somatization, and suicide attempt were 23.5%, 20.8%, 16.2%, 13.7%, 10.8%, 4.5%, and 2.7%, respectively. The results indicate that internalizing problems, especially sleep problem and emotional problem, are more serious among Chinese college students compared to externalizing problems.\\n\\nThe results of the moderating effect indicated that (1) The prevalence of anxiety, depression, sleep problem and suicide attempt among college students has increased significantly in the last decade, while the prevalence of self-harm has declined significantly; (2) The prevalence of anxiety, depression, sleep problem, and somatization varied significantly between measurement tools and detection standards, and the prevalence of suicidal ideation differed to a significant extent depending on the detection time. Therefore, the fluctuation of prevalence was accounted by measurement tools, detection standards and detection time. (3) There existed obvious regional differences in the prevalence of sleep problem and suicidal ideation, with the feature of the worst mental health among college students in western China and better mental health among college students in northeastern and central China. (4) The prevalence of mental health problems among demographical variables including gender, only child or not, and birthplace showed no significant difference, which indicated that gender, only child or not, urban or rural areas were not the critical factors influencing college students’ mental health.\\n\\nIn summary, by employing the method of meta-analysis, this study is the first study to systematically investigate the prevalence of the typical mental health problems of college students in mainland China from 2010 to 2020. The results clarified the controversy over the inconsistent prevalence in previous studies and explored the main reasons for the inconsistent findings. Thus, this meta-analysis is conducive to promoting subsequent studies and educational practice. Key words: mental health, college students, prevalence, meta-analysis', '日前，中国科学院心理研究所、社会科学文献出版社联合发布我国第三本心理健康蓝皮书。书中公布的《2022年大学生心理健康状况调查报告》(以下简称“报告”)，涵盖对山东、河北等31个省(自治区、直辖市)近8万名15-26岁的大学生的调查。\\n\\n报告显示，升学问题是影响大学生心理健康的风险因素。“以前高考一结束，学生就感觉自己通过了‘鲤鱼跃龙门’中最难的关口。现在这个关口向后移动，即便到了大学阶段，学生对未来依然会感到明显的压力。”中国科学院心理研究所教授陈祉妍是调研的设计者之一，她认为，当代大学生对于未来发展的压力出现后置。\\n\\n大学阶段是学生个人成长与知识储备的关键时期，心理健康作为一切行动的基础要素，对大学生学习和生活至关重要。\\n\\n大学生对生活的满意度较高，对生涯规划焦虑较多\\n\\n从总体来看，我国大学生心理健康总体状况良好，对生活的满意度较高。但大学生的生涯规划、生活方式和恋爱心理健康教育等方面仍存在问题，亟待加强关注。\\n\\n调查显示，我国大学生对生活“基本满意”及以上的人占比为74.10%，很难评判自己生活是否满意的为17.24%，仅有少部分大学生对生活不满意(8.66%)。对现状的满足没有成为大学生的定心石，对未来的担忧仍时时牵动他们的神经。有50.44%的大学生有读研打算，且打算读研学生的焦虑风险显著高于没有读研打算的学生。与此同时，大学生的主要压力源“学业负担重”“想念家人”和“不知道自己适合什么工作”中，两项都和个人生涯规划有关。\\n\\n金融专业的张尔尔为了获得更多的项目经验，从大二起便开始实习，甚至有一段时间两份实习并行。“我也不希望这样，太累了。特别是同时参加两份实习时，我每天只有工作，完全没有个人生活。”不过，张尔尔觉得只有这样才安心。陈祉妍分析，这可能是因为在快节奏的社会变化中，选择变多，人生的不确定性增加，所以大学生对人生的定位更为困难。\\n\\n不同学校、户口和学段的大学生之间的心理健康状况有显著差异。城镇户口的大学生抑郁和焦虑风险均显著高于农村户口，重点院校的学生抑郁焦虑风险也比非重点院校的大学生更高；本科生的抑郁和焦虑风险显著高于专科生。而这些差异并非2022年独有，中国科学院心理研究所于2021年发布的《中国国民心理健康发展报告(2019-2020)》中的数据显示，大专生在抑郁水平、焦虑水平、睡眠质量、自评心理健康状况等方面的心理健康状况都好于本科生。陈祉妍表示，这也许和学生对未来的期望以及比较对象有关，“如果学生总和比自己发展更好的人相比，他对自己的满意度可能会较低”。\\n\\n适度的焦虑情绪有利于备考和学习，但是如果学生出现过度焦虑的情况，需及时干预。陈祉妍建议大学生，要尽早地去认识自我，找到期望的发展方向，同时进行深入了解，观察自己与行业的匹配度。\\n\\n生活方式和心理健康息息相关\\n\\n除了个人发展，生活方式和大学生的心理健康状况也密切相关，调查从睡眠、压力源和无聊三个方面进行了评估。\\n\\n睡眠与心理健康的关系显示，睡眠质量较好的学生的抑郁和焦虑得分均显著低于睡眠质量较差的大学生，且抑郁和焦虑风险也较低。“很多大学生频繁熬夜晚起，睡眠系统紊乱，这不利于心理健康。”陈祉妍建议大学生，要追寻健康的生活方式。\\n\\n睡眠不好怎么办？陈祉妍表示，睡眠状况受到身体和心理等多方面因素的影响，想要缓解失眠，我们首先要识别睡眠问题的成因。如果是出于心理原因，例如因焦虑而失眠，那么“在白天把该做的事做了，把该理清的思路理清了”，晚上会更容易入睡。\\n\\n评估生活方式的另一维度“无聊”指的是“由于知觉到生活无意义而产生的负性情绪体验”。数据表明，大学生的无聊得分和抑郁和焦虑风险呈正相关关系。\\n\\n爬山怕累，去海滩怕晒，逛展览觉得看不懂，躺在床上什么都不做，哀叹生活无趣，是00后女孩吴雨的日常。事情的转变发生在半年前，她的父亲买回了一台相机，原本只是想记录日常，却意外成为她发现世界的窗口。透过小小的取景器，她感受到色彩变幻，体会到定格瞬间的幸福。为了拍出更多好照片，她开始研究光影、构图，甚至自学了PS，一个似乎对所有事情都提不起兴趣的女孩，变得对最日常的事物也充满期待，力图透过镜头发现被隐藏的美。\\n\\n“无聊和人生的意义感有关，一个人找到的人生意义越多，越不容易感到无聊和空虚。”陈祉妍分析，很多大学生觉得生活无聊，可能是因为他们在青少年时期只顾着提高分数，缺乏对未来清晰的人生定向；也可能和社会思潮有关，现在常常强调及时行乐，“总是寻求短期的快乐，容易让人感到无聊”。她表示，追求人生意义一定需要通过努力，甚至经历痛苦，才能最终达到幸福的阶段。\\n\\n陈祉妍建议大学生去探索、多接触，通过网络、实习等多种方式，收集信息，找到自己觉得有意义的事情；多参加人际交往活动，在与人交流中获得反馈，发现自己擅长且适合的领域。此外，通过请老师为自己指点迷津也是一个好方法。\\n\\n健康良好的恋爱关系是心理健康的良药\\n\\n当代大学生的恋爱观什么样？两句流行语似乎可以概括：“单身一身轻，无爱是精英”“姻缘庙我看都不看，财神殿里长跪不起”。\\n\\n“大学生恋爱的勇气可能减少了。”陈祉妍在调研中发现，现在相当多单身的大学生不想脱单。数据表明，有27.61%的大学生处于恋爱状态，有41.93%的大学生处于单身且不想脱单的状态，有25.40%的大学生处于单身想脱单的状态，其余学生未报告。\\n\\n陈祉妍认为，现代生活中的便捷性和确定性的增加是重要原因。“只要努力工作，你就容易被老板看到，获得升职加薪的机会。即便日后离职，你也拥有了更多的工作技能，同时这个技能是可以迁移的。”她说，相比于工作，恋爱具有更多的不确定性，需要更多的勇气与智慧。\\n\\n不过，当我们处于一段健康良好的恋爱关系时，恋爱并非总是如此不堪。报告显示，恋爱中的大学生抑郁得分最低，焦虑得分也较低，单身想脱单大学生的抑郁和焦虑得分显著更高；在无聊感上，恋爱中的大学生无聊得分最低。健康良好的恋爱关系对大学生心理健康也许具有促进作用。\\n\\n大四伊始，李磊就被告知拿到了学校保研的名额。升学与就业难题摊在同学面前，他却早早上了岸。在很多人眼中，李磊无疑是优秀的，但他知道，如果没有女友小琴，他现在还只是个游手好闲之徒。刚上大学时，好不容易熬过高三的他开始放飞自我，玩滑板、跳街舞、组社团、打比赛……他似乎参与了所有能加入的活动，除了学习。直到期末，他才发现自己什么都不会，而后在小琴的帮助下恶补功课，他才勉强过关。\\n\\n不是所有人都像李磊这么幸运。廖洁从开朗自信变得敏感自卑，与前男友有关。“他总是在否定我，刚开始是不认可我的穿衣风格，后来嘲笑我的观点浅薄。”廖洁说，自己刚开始还会反驳，后来随着对方的否定越来越多，自己也开始怀疑，是不是自己真的像他说的那么不好。\\n\\n什么是健康良好的恋爱关系？在陈祉妍看来，双方要能为彼此带来更多的情绪支持，愿意努力去理解对方，互相扶持，同时在这一过程中能够更好地认识自己。追寻健康良好的恋爱关系，陈祉妍建议学校应加强恋爱心理健康教育，根据不同学生的发展特点，针对性地设立相关课程，帮助大学生树立正确的婚恋观。\\n\\n心理健康是大学生探索自我、深入学习、技能培养的基础，但常常会受到生活方式、生涯规划和恋爱等多方面因素的影响。保护大学生心理健康，学校、家长和社会可以做些什么？\\n\\n陈祉妍强调，大中小学心理健康一体化工作很重要。“就像‘社交’不是上大学才开始学的一样，很多大学生找不到人生方向，很可能是因为他在小学、初中、高中阶段，对自我的探索不够。”她说，学校对不同年龄段的学生，都要给予包括人际交往、情绪调控、自我认识等各方面的支持，这不只是高校的工作，而是整个学校体系要做的事。\\n\\n陈祉妍建议他们将保护孩子心理健康的关口前移，自孩子小时候开始，家长就要进行一定引导。“如果学生已经上大学，希望家长对心理健康工作予以更多的配合和支持。”她说。\\n\\n此外，很多大学生会通过网络来学习心理健康方面的知识。“网络信息鱼龙混杂。”陈祉妍呼吁，“提高线上资源的规范性、科学性，有利于大学生心理健康的提升。”\\n\\n(除陈祉妍外，本文人名均为化名)\\n\\n中青报·中青网见习记者 李丹萍 来源：中国青年报']\n",
      "\n",
      "\n",
      "Writing article...\n"
     ]
    },
    {
     "ename": "ConnectionError",
     "evalue": "('Connection aborted.', RemoteDisconnected('Remote end closed connection without response'))",
     "output_type": "error",
     "traceback": [
      "\u001b[0;31m---------------------------------------------------------------------------\u001b[0m",
      "\u001b[0;31mConnectionError\u001b[0m                           Traceback (most recent call last)",
      "Cell \u001b[0;32mIn[2], line 158\u001b[0m\n\u001b[1;32m    156\u001b[0m \u001b[38;5;28mprint\u001b[39m(\u001b[38;5;124m'\u001b[39m\u001b[38;5;130;01m\\n\u001b[39;00m\u001b[38;5;130;01m\\n\u001b[39;00m\u001b[38;5;124mWriting article...\u001b[39m\u001b[38;5;124m'\u001b[39m)\n\u001b[1;32m    157\u001b[0m \u001b[38;5;66;03m# Write the article\u001b[39;00m\n\u001b[0;32m--> 158\u001b[0m article \u001b[38;5;241m=\u001b[39m write_article(topic, article_texts)\n\u001b[1;32m    159\u001b[0m \u001b[38;5;28mprint\u001b[39m(\u001b[38;5;124m\"\u001b[39m\u001b[38;5;130;01m\\n\u001b[39;00m\u001b[38;5;124mGenerated Article:\u001b[39m\u001b[38;5;124m\"\u001b[39m)\n\u001b[1;32m    160\u001b[0m \u001b[38;5;28mprint\u001b[39m(article)\n",
      "Cell \u001b[0;32mIn[2], line 93\u001b[0m, in \u001b[0;36mwrite_article\u001b[0;34m(topic, article_texts)\u001b[0m\n\u001b[1;32m     90\u001b[0m prompt \u001b[38;5;241m=\u001b[39m \u001b[38;5;124mf\u001b[39m\u001b[38;5;124m\"\u001b[39m\u001b[38;5;124mTopic: \u001b[39m\u001b[38;5;132;01m{\u001b[39;00mtopic\u001b[38;5;132;01m}\u001b[39;00m\u001b[38;5;130;01m\\n\u001b[39;00m\u001b[38;5;130;01m\\n\u001b[39;00m\u001b[38;5;124mArticle Texts:\u001b[39m\u001b[38;5;130;01m\\n\u001b[39;00m\u001b[38;5;132;01m{\u001b[39;00mcombined_text\u001b[38;5;132;01m}\u001b[39;00m\u001b[38;5;130;01m\\n\u001b[39;00m\u001b[38;5;130;01m\\n\u001b[39;00m\u001b[38;5;124mPlease write a high-quality, NYT-worthy article on the topic based on the provided article texts. The article should be well-structured, informative, and engaging. Ensure the length is at least as long as a NYT cover story -- at a minimum, 15 paragraphs.\u001b[39m\u001b[38;5;124m\"\u001b[39m\n\u001b[1;32m     92\u001b[0m model \u001b[38;5;241m=\u001b[39m genai\u001b[38;5;241m.\u001b[39mGenerativeModel(model_name\u001b[38;5;241m=\u001b[39mGEMINI_MODEL, safety_settings\u001b[38;5;241m=\u001b[39msafety_settings, system_instruction\u001b[38;5;241m=\u001b[39msystem_prompt)\n\u001b[0;32m---> 93\u001b[0m response \u001b[38;5;241m=\u001b[39m model\u001b[38;5;241m.\u001b[39mgenerate_content(prompt, generation_config\u001b[38;5;241m=\u001b[39mgeneration_config)\n\u001b[1;32m     94\u001b[0m response_text \u001b[38;5;241m=\u001b[39m response\u001b[38;5;241m.\u001b[39mcandidates[\u001b[38;5;241m0\u001b[39m]\u001b[38;5;241m.\u001b[39mcontent\u001b[38;5;241m.\u001b[39mparts[\u001b[38;5;241m0\u001b[39m]\u001b[38;5;241m.\u001b[39mtext\n\u001b[1;32m     96\u001b[0m article \u001b[38;5;241m=\u001b[39m response_text\n",
      "File \u001b[0;32m/opt/homebrew/anaconda3/lib/python3.11/site-packages/google/generativeai/generative_models.py:262\u001b[0m, in \u001b[0;36mGenerativeModel.generate_content\u001b[0;34m(self, contents, generation_config, safety_settings, stream, tools, tool_config, request_options)\u001b[0m\n\u001b[1;32m    260\u001b[0m         \u001b[38;5;28;01mreturn\u001b[39;00m generation_types\u001b[38;5;241m.\u001b[39mGenerateContentResponse\u001b[38;5;241m.\u001b[39mfrom_iterator(iterator)\n\u001b[1;32m    261\u001b[0m     \u001b[38;5;28;01melse\u001b[39;00m:\n\u001b[0;32m--> 262\u001b[0m         response \u001b[38;5;241m=\u001b[39m \u001b[38;5;28mself\u001b[39m\u001b[38;5;241m.\u001b[39m_client\u001b[38;5;241m.\u001b[39mgenerate_content(\n\u001b[1;32m    263\u001b[0m             request,\n\u001b[1;32m    264\u001b[0m             \u001b[38;5;241m*\u001b[39m\u001b[38;5;241m*\u001b[39mrequest_options,\n\u001b[1;32m    265\u001b[0m         )\n\u001b[1;32m    266\u001b[0m         \u001b[38;5;28;01mreturn\u001b[39;00m generation_types\u001b[38;5;241m.\u001b[39mGenerateContentResponse\u001b[38;5;241m.\u001b[39mfrom_response(response)\n\u001b[1;32m    267\u001b[0m \u001b[38;5;28;01mexcept\u001b[39;00m google\u001b[38;5;241m.\u001b[39mapi_core\u001b[38;5;241m.\u001b[39mexceptions\u001b[38;5;241m.\u001b[39mInvalidArgument \u001b[38;5;28;01mas\u001b[39;00m e:\n",
      "File \u001b[0;32m/opt/homebrew/anaconda3/lib/python3.11/site-packages/google/ai/generativelanguage_v1beta/services/generative_service/client.py:791\u001b[0m, in \u001b[0;36mGenerativeServiceClient.generate_content\u001b[0;34m(self, request, model, contents, retry, timeout, metadata)\u001b[0m\n\u001b[1;32m    788\u001b[0m \u001b[38;5;28mself\u001b[39m\u001b[38;5;241m.\u001b[39m_validate_universe_domain()\n\u001b[1;32m    790\u001b[0m \u001b[38;5;66;03m# Send the request.\u001b[39;00m\n\u001b[0;32m--> 791\u001b[0m response \u001b[38;5;241m=\u001b[39m rpc(\n\u001b[1;32m    792\u001b[0m     request,\n\u001b[1;32m    793\u001b[0m     retry\u001b[38;5;241m=\u001b[39mretry,\n\u001b[1;32m    794\u001b[0m     timeout\u001b[38;5;241m=\u001b[39mtimeout,\n\u001b[1;32m    795\u001b[0m     metadata\u001b[38;5;241m=\u001b[39mmetadata,\n\u001b[1;32m    796\u001b[0m )\n\u001b[1;32m    798\u001b[0m \u001b[38;5;66;03m# Done; return the response.\u001b[39;00m\n\u001b[1;32m    799\u001b[0m \u001b[38;5;28;01mreturn\u001b[39;00m response\n",
      "File \u001b[0;32m/opt/homebrew/anaconda3/lib/python3.11/site-packages/google/api_core/gapic_v1/method.py:131\u001b[0m, in \u001b[0;36m_GapicCallable.__call__\u001b[0;34m(self, timeout, retry, compression, *args, **kwargs)\u001b[0m\n\u001b[1;32m    128\u001b[0m \u001b[38;5;28;01mif\u001b[39;00m \u001b[38;5;28mself\u001b[39m\u001b[38;5;241m.\u001b[39m_compression \u001b[38;5;129;01mis\u001b[39;00m \u001b[38;5;129;01mnot\u001b[39;00m \u001b[38;5;28;01mNone\u001b[39;00m:\n\u001b[1;32m    129\u001b[0m     kwargs[\u001b[38;5;124m\"\u001b[39m\u001b[38;5;124mcompression\u001b[39m\u001b[38;5;124m\"\u001b[39m] \u001b[38;5;241m=\u001b[39m compression\n\u001b[0;32m--> 131\u001b[0m \u001b[38;5;28;01mreturn\u001b[39;00m wrapped_func(\u001b[38;5;241m*\u001b[39margs, \u001b[38;5;241m*\u001b[39m\u001b[38;5;241m*\u001b[39mkwargs)\n",
      "File \u001b[0;32m/opt/homebrew/anaconda3/lib/python3.11/site-packages/google/api_core/retry/retry_unary.py:293\u001b[0m, in \u001b[0;36mRetry.__call__.<locals>.retry_wrapped_func\u001b[0;34m(*args, **kwargs)\u001b[0m\n\u001b[1;32m    289\u001b[0m target \u001b[38;5;241m=\u001b[39m functools\u001b[38;5;241m.\u001b[39mpartial(func, \u001b[38;5;241m*\u001b[39margs, \u001b[38;5;241m*\u001b[39m\u001b[38;5;241m*\u001b[39mkwargs)\n\u001b[1;32m    290\u001b[0m sleep_generator \u001b[38;5;241m=\u001b[39m exponential_sleep_generator(\n\u001b[1;32m    291\u001b[0m     \u001b[38;5;28mself\u001b[39m\u001b[38;5;241m.\u001b[39m_initial, \u001b[38;5;28mself\u001b[39m\u001b[38;5;241m.\u001b[39m_maximum, multiplier\u001b[38;5;241m=\u001b[39m\u001b[38;5;28mself\u001b[39m\u001b[38;5;241m.\u001b[39m_multiplier\n\u001b[1;32m    292\u001b[0m )\n\u001b[0;32m--> 293\u001b[0m \u001b[38;5;28;01mreturn\u001b[39;00m retry_target(\n\u001b[1;32m    294\u001b[0m     target,\n\u001b[1;32m    295\u001b[0m     \u001b[38;5;28mself\u001b[39m\u001b[38;5;241m.\u001b[39m_predicate,\n\u001b[1;32m    296\u001b[0m     sleep_generator,\n\u001b[1;32m    297\u001b[0m     timeout\u001b[38;5;241m=\u001b[39m\u001b[38;5;28mself\u001b[39m\u001b[38;5;241m.\u001b[39m_timeout,\n\u001b[1;32m    298\u001b[0m     on_error\u001b[38;5;241m=\u001b[39mon_error,\n\u001b[1;32m    299\u001b[0m )\n",
      "File \u001b[0;32m/opt/homebrew/anaconda3/lib/python3.11/site-packages/google/api_core/retry/retry_unary.py:153\u001b[0m, in \u001b[0;36mretry_target\u001b[0;34m(target, predicate, sleep_generator, timeout, on_error, exception_factory, **kwargs)\u001b[0m\n\u001b[1;32m    149\u001b[0m \u001b[38;5;66;03m# pylint: disable=broad-except\u001b[39;00m\n\u001b[1;32m    150\u001b[0m \u001b[38;5;66;03m# This function explicitly must deal with broad exceptions.\u001b[39;00m\n\u001b[1;32m    151\u001b[0m \u001b[38;5;28;01mexcept\u001b[39;00m \u001b[38;5;167;01mException\u001b[39;00m \u001b[38;5;28;01mas\u001b[39;00m exc:\n\u001b[1;32m    152\u001b[0m     \u001b[38;5;66;03m# defer to shared logic for handling errors\u001b[39;00m\n\u001b[0;32m--> 153\u001b[0m     _retry_error_helper(\n\u001b[1;32m    154\u001b[0m         exc,\n\u001b[1;32m    155\u001b[0m         deadline,\n\u001b[1;32m    156\u001b[0m         sleep,\n\u001b[1;32m    157\u001b[0m         error_list,\n\u001b[1;32m    158\u001b[0m         predicate,\n\u001b[1;32m    159\u001b[0m         on_error,\n\u001b[1;32m    160\u001b[0m         exception_factory,\n\u001b[1;32m    161\u001b[0m         timeout,\n\u001b[1;32m    162\u001b[0m     )\n\u001b[1;32m    163\u001b[0m     \u001b[38;5;66;03m# if exception not raised, sleep before next attempt\u001b[39;00m\n\u001b[1;32m    164\u001b[0m     time\u001b[38;5;241m.\u001b[39msleep(sleep)\n",
      "File \u001b[0;32m/opt/homebrew/anaconda3/lib/python3.11/site-packages/google/api_core/retry/retry_base.py:212\u001b[0m, in \u001b[0;36m_retry_error_helper\u001b[0;34m(exc, deadline, next_sleep, error_list, predicate_fn, on_error_fn, exc_factory_fn, original_timeout)\u001b[0m\n\u001b[1;32m    206\u001b[0m \u001b[38;5;28;01mif\u001b[39;00m \u001b[38;5;129;01mnot\u001b[39;00m predicate_fn(exc):\n\u001b[1;32m    207\u001b[0m     final_exc, source_exc \u001b[38;5;241m=\u001b[39m exc_factory_fn(\n\u001b[1;32m    208\u001b[0m         error_list,\n\u001b[1;32m    209\u001b[0m         RetryFailureReason\u001b[38;5;241m.\u001b[39mNON_RETRYABLE_ERROR,\n\u001b[1;32m    210\u001b[0m         original_timeout,\n\u001b[1;32m    211\u001b[0m     )\n\u001b[0;32m--> 212\u001b[0m     \u001b[38;5;28;01mraise\u001b[39;00m final_exc \u001b[38;5;28;01mfrom\u001b[39;00m \u001b[38;5;21;01msource_exc\u001b[39;00m\n\u001b[1;32m    213\u001b[0m \u001b[38;5;28;01mif\u001b[39;00m on_error_fn \u001b[38;5;129;01mis\u001b[39;00m \u001b[38;5;129;01mnot\u001b[39;00m \u001b[38;5;28;01mNone\u001b[39;00m:\n\u001b[1;32m    214\u001b[0m     on_error_fn(exc)\n",
      "File \u001b[0;32m/opt/homebrew/anaconda3/lib/python3.11/site-packages/google/api_core/retry/retry_unary.py:144\u001b[0m, in \u001b[0;36mretry_target\u001b[0;34m(target, predicate, sleep_generator, timeout, on_error, exception_factory, **kwargs)\u001b[0m\n\u001b[1;32m    142\u001b[0m \u001b[38;5;28;01mfor\u001b[39;00m sleep \u001b[38;5;129;01min\u001b[39;00m sleep_generator:\n\u001b[1;32m    143\u001b[0m     \u001b[38;5;28;01mtry\u001b[39;00m:\n\u001b[0;32m--> 144\u001b[0m         result \u001b[38;5;241m=\u001b[39m target()\n\u001b[1;32m    145\u001b[0m         \u001b[38;5;28;01mif\u001b[39;00m inspect\u001b[38;5;241m.\u001b[39misawaitable(result):\n\u001b[1;32m    146\u001b[0m             warnings\u001b[38;5;241m.\u001b[39mwarn(_ASYNC_RETRY_WARNING)\n",
      "File \u001b[0;32m/opt/homebrew/anaconda3/lib/python3.11/site-packages/google/api_core/timeout.py:120\u001b[0m, in \u001b[0;36mTimeToDeadlineTimeout.__call__.<locals>.func_with_timeout\u001b[0;34m(*args, **kwargs)\u001b[0m\n\u001b[1;32m    117\u001b[0m     \u001b[38;5;66;03m# Avoid setting negative timeout\u001b[39;00m\n\u001b[1;32m    118\u001b[0m     kwargs[\u001b[38;5;124m\"\u001b[39m\u001b[38;5;124mtimeout\u001b[39m\u001b[38;5;124m\"\u001b[39m] \u001b[38;5;241m=\u001b[39m \u001b[38;5;28mmax\u001b[39m(\u001b[38;5;241m0\u001b[39m, \u001b[38;5;28mself\u001b[39m\u001b[38;5;241m.\u001b[39m_timeout \u001b[38;5;241m-\u001b[39m time_since_first_attempt)\n\u001b[0;32m--> 120\u001b[0m \u001b[38;5;28;01mreturn\u001b[39;00m func(\u001b[38;5;241m*\u001b[39margs, \u001b[38;5;241m*\u001b[39m\u001b[38;5;241m*\u001b[39mkwargs)\n",
      "File \u001b[0;32m/opt/homebrew/anaconda3/lib/python3.11/site-packages/google/api_core/grpc_helpers.py:76\u001b[0m, in \u001b[0;36m_wrap_unary_errors.<locals>.error_remapped_callable\u001b[0;34m(*args, **kwargs)\u001b[0m\n\u001b[1;32m     73\u001b[0m \u001b[38;5;129m@functools\u001b[39m\u001b[38;5;241m.\u001b[39mwraps(callable_)\n\u001b[1;32m     74\u001b[0m \u001b[38;5;28;01mdef\u001b[39;00m \u001b[38;5;21merror_remapped_callable\u001b[39m(\u001b[38;5;241m*\u001b[39margs, \u001b[38;5;241m*\u001b[39m\u001b[38;5;241m*\u001b[39mkwargs):\n\u001b[1;32m     75\u001b[0m     \u001b[38;5;28;01mtry\u001b[39;00m:\n\u001b[0;32m---> 76\u001b[0m         \u001b[38;5;28;01mreturn\u001b[39;00m callable_(\u001b[38;5;241m*\u001b[39margs, \u001b[38;5;241m*\u001b[39m\u001b[38;5;241m*\u001b[39mkwargs)\n\u001b[1;32m     77\u001b[0m     \u001b[38;5;28;01mexcept\u001b[39;00m grpc\u001b[38;5;241m.\u001b[39mRpcError \u001b[38;5;28;01mas\u001b[39;00m exc:\n\u001b[1;32m     78\u001b[0m         \u001b[38;5;28;01mraise\u001b[39;00m exceptions\u001b[38;5;241m.\u001b[39mfrom_grpc_error(exc) \u001b[38;5;28;01mfrom\u001b[39;00m \u001b[38;5;21;01mexc\u001b[39;00m\n",
      "File \u001b[0;32m/opt/homebrew/anaconda3/lib/python3.11/site-packages/google/ai/generativelanguage_v1beta/services/generative_service/transports/rest.py:835\u001b[0m, in \u001b[0;36mGenerativeServiceRestTransport._GenerateContent.__call__\u001b[0;34m(self, request, retry, timeout, metadata)\u001b[0m\n\u001b[1;32m    833\u001b[0m headers \u001b[38;5;241m=\u001b[39m \u001b[38;5;28mdict\u001b[39m(metadata)\n\u001b[1;32m    834\u001b[0m headers[\u001b[38;5;124m\"\u001b[39m\u001b[38;5;124mContent-Type\u001b[39m\u001b[38;5;124m\"\u001b[39m] \u001b[38;5;241m=\u001b[39m \u001b[38;5;124m\"\u001b[39m\u001b[38;5;124mapplication/json\u001b[39m\u001b[38;5;124m\"\u001b[39m\n\u001b[0;32m--> 835\u001b[0m response \u001b[38;5;241m=\u001b[39m \u001b[38;5;28mgetattr\u001b[39m(\u001b[38;5;28mself\u001b[39m\u001b[38;5;241m.\u001b[39m_session, method)(\n\u001b[1;32m    836\u001b[0m     \u001b[38;5;124m\"\u001b[39m\u001b[38;5;132;01m{host}\u001b[39;00m\u001b[38;5;132;01m{uri}\u001b[39;00m\u001b[38;5;124m\"\u001b[39m\u001b[38;5;241m.\u001b[39mformat(host\u001b[38;5;241m=\u001b[39m\u001b[38;5;28mself\u001b[39m\u001b[38;5;241m.\u001b[39m_host, uri\u001b[38;5;241m=\u001b[39muri),\n\u001b[1;32m    837\u001b[0m     timeout\u001b[38;5;241m=\u001b[39mtimeout,\n\u001b[1;32m    838\u001b[0m     headers\u001b[38;5;241m=\u001b[39mheaders,\n\u001b[1;32m    839\u001b[0m     params\u001b[38;5;241m=\u001b[39mrest_helpers\u001b[38;5;241m.\u001b[39mflatten_query_params(query_params, strict\u001b[38;5;241m=\u001b[39m\u001b[38;5;28;01mTrue\u001b[39;00m),\n\u001b[1;32m    840\u001b[0m     data\u001b[38;5;241m=\u001b[39mbody,\n\u001b[1;32m    841\u001b[0m )\n\u001b[1;32m    843\u001b[0m \u001b[38;5;66;03m# In case of error, raise the appropriate core_exceptions.GoogleAPICallError exception\u001b[39;00m\n\u001b[1;32m    844\u001b[0m \u001b[38;5;66;03m# subclass.\u001b[39;00m\n\u001b[1;32m    845\u001b[0m \u001b[38;5;28;01mif\u001b[39;00m response\u001b[38;5;241m.\u001b[39mstatus_code \u001b[38;5;241m>\u001b[39m\u001b[38;5;241m=\u001b[39m \u001b[38;5;241m400\u001b[39m:\n",
      "File \u001b[0;32m/opt/homebrew/anaconda3/lib/python3.11/site-packages/requests/sessions.py:637\u001b[0m, in \u001b[0;36mSession.post\u001b[0;34m(self, url, data, json, **kwargs)\u001b[0m\n\u001b[1;32m    626\u001b[0m \u001b[38;5;28;01mdef\u001b[39;00m \u001b[38;5;21mpost\u001b[39m(\u001b[38;5;28mself\u001b[39m, url, data\u001b[38;5;241m=\u001b[39m\u001b[38;5;28;01mNone\u001b[39;00m, json\u001b[38;5;241m=\u001b[39m\u001b[38;5;28;01mNone\u001b[39;00m, \u001b[38;5;241m*\u001b[39m\u001b[38;5;241m*\u001b[39mkwargs):\n\u001b[1;32m    627\u001b[0m \u001b[38;5;250m    \u001b[39m\u001b[38;5;124mr\u001b[39m\u001b[38;5;124;03m\"\"\"Sends a POST request. Returns :class:`Response` object.\u001b[39;00m\n\u001b[1;32m    628\u001b[0m \n\u001b[1;32m    629\u001b[0m \u001b[38;5;124;03m    :param url: URL for the new :class:`Request` object.\u001b[39;00m\n\u001b[0;32m   (...)\u001b[0m\n\u001b[1;32m    634\u001b[0m \u001b[38;5;124;03m    :rtype: requests.Response\u001b[39;00m\n\u001b[1;32m    635\u001b[0m \u001b[38;5;124;03m    \"\"\"\u001b[39;00m\n\u001b[0;32m--> 637\u001b[0m     \u001b[38;5;28;01mreturn\u001b[39;00m \u001b[38;5;28mself\u001b[39m\u001b[38;5;241m.\u001b[39mrequest(\u001b[38;5;124m\"\u001b[39m\u001b[38;5;124mPOST\u001b[39m\u001b[38;5;124m\"\u001b[39m, url, data\u001b[38;5;241m=\u001b[39mdata, json\u001b[38;5;241m=\u001b[39mjson, \u001b[38;5;241m*\u001b[39m\u001b[38;5;241m*\u001b[39mkwargs)\n",
      "File \u001b[0;32m/opt/homebrew/anaconda3/lib/python3.11/site-packages/google/auth/transport/requests.py:541\u001b[0m, in \u001b[0;36mAuthorizedSession.request\u001b[0;34m(self, method, url, data, headers, max_allowed_time, timeout, **kwargs)\u001b[0m\n\u001b[1;32m    538\u001b[0m remaining_time \u001b[38;5;241m=\u001b[39m guard\u001b[38;5;241m.\u001b[39mremaining_timeout\n\u001b[1;32m    540\u001b[0m \u001b[38;5;28;01mwith\u001b[39;00m TimeoutGuard(remaining_time) \u001b[38;5;28;01mas\u001b[39;00m guard:\n\u001b[0;32m--> 541\u001b[0m     response \u001b[38;5;241m=\u001b[39m \u001b[38;5;28msuper\u001b[39m(AuthorizedSession, \u001b[38;5;28mself\u001b[39m)\u001b[38;5;241m.\u001b[39mrequest(\n\u001b[1;32m    542\u001b[0m         method,\n\u001b[1;32m    543\u001b[0m         url,\n\u001b[1;32m    544\u001b[0m         data\u001b[38;5;241m=\u001b[39mdata,\n\u001b[1;32m    545\u001b[0m         headers\u001b[38;5;241m=\u001b[39mrequest_headers,\n\u001b[1;32m    546\u001b[0m         timeout\u001b[38;5;241m=\u001b[39mtimeout,\n\u001b[1;32m    547\u001b[0m         \u001b[38;5;241m*\u001b[39m\u001b[38;5;241m*\u001b[39mkwargs\n\u001b[1;32m    548\u001b[0m     )\n\u001b[1;32m    549\u001b[0m remaining_time \u001b[38;5;241m=\u001b[39m guard\u001b[38;5;241m.\u001b[39mremaining_timeout\n\u001b[1;32m    551\u001b[0m \u001b[38;5;66;03m# If the response indicated that the credentials needed to be\u001b[39;00m\n\u001b[1;32m    552\u001b[0m \u001b[38;5;66;03m# refreshed, then refresh the credentials and re-attempt the\u001b[39;00m\n\u001b[1;32m    553\u001b[0m \u001b[38;5;66;03m# request.\u001b[39;00m\n\u001b[1;32m    554\u001b[0m \u001b[38;5;66;03m# A stored token may expire between the time it is retrieved and\u001b[39;00m\n\u001b[1;32m    555\u001b[0m \u001b[38;5;66;03m# the time the request is made, so we may need to try twice.\u001b[39;00m\n",
      "File \u001b[0;32m/opt/homebrew/anaconda3/lib/python3.11/site-packages/requests/sessions.py:589\u001b[0m, in \u001b[0;36mSession.request\u001b[0;34m(self, method, url, params, data, headers, cookies, files, auth, timeout, allow_redirects, proxies, hooks, stream, verify, cert, json)\u001b[0m\n\u001b[1;32m    584\u001b[0m send_kwargs \u001b[38;5;241m=\u001b[39m {\n\u001b[1;32m    585\u001b[0m     \u001b[38;5;124m\"\u001b[39m\u001b[38;5;124mtimeout\u001b[39m\u001b[38;5;124m\"\u001b[39m: timeout,\n\u001b[1;32m    586\u001b[0m     \u001b[38;5;124m\"\u001b[39m\u001b[38;5;124mallow_redirects\u001b[39m\u001b[38;5;124m\"\u001b[39m: allow_redirects,\n\u001b[1;32m    587\u001b[0m }\n\u001b[1;32m    588\u001b[0m send_kwargs\u001b[38;5;241m.\u001b[39mupdate(settings)\n\u001b[0;32m--> 589\u001b[0m resp \u001b[38;5;241m=\u001b[39m \u001b[38;5;28mself\u001b[39m\u001b[38;5;241m.\u001b[39msend(prep, \u001b[38;5;241m*\u001b[39m\u001b[38;5;241m*\u001b[39msend_kwargs)\n\u001b[1;32m    591\u001b[0m \u001b[38;5;28;01mreturn\u001b[39;00m resp\n",
      "File \u001b[0;32m/opt/homebrew/anaconda3/lib/python3.11/site-packages/requests/sessions.py:703\u001b[0m, in \u001b[0;36mSession.send\u001b[0;34m(self, request, **kwargs)\u001b[0m\n\u001b[1;32m    700\u001b[0m start \u001b[38;5;241m=\u001b[39m preferred_clock()\n\u001b[1;32m    702\u001b[0m \u001b[38;5;66;03m# Send the request\u001b[39;00m\n\u001b[0;32m--> 703\u001b[0m r \u001b[38;5;241m=\u001b[39m adapter\u001b[38;5;241m.\u001b[39msend(request, \u001b[38;5;241m*\u001b[39m\u001b[38;5;241m*\u001b[39mkwargs)\n\u001b[1;32m    705\u001b[0m \u001b[38;5;66;03m# Total elapsed time of the request (approximately)\u001b[39;00m\n\u001b[1;32m    706\u001b[0m elapsed \u001b[38;5;241m=\u001b[39m preferred_clock() \u001b[38;5;241m-\u001b[39m start\n",
      "File \u001b[0;32m/opt/homebrew/anaconda3/lib/python3.11/site-packages/requests/adapters.py:501\u001b[0m, in \u001b[0;36mHTTPAdapter.send\u001b[0;34m(self, request, stream, timeout, verify, cert, proxies)\u001b[0m\n\u001b[1;32m    486\u001b[0m     resp \u001b[38;5;241m=\u001b[39m conn\u001b[38;5;241m.\u001b[39murlopen(\n\u001b[1;32m    487\u001b[0m         method\u001b[38;5;241m=\u001b[39mrequest\u001b[38;5;241m.\u001b[39mmethod,\n\u001b[1;32m    488\u001b[0m         url\u001b[38;5;241m=\u001b[39murl,\n\u001b[0;32m   (...)\u001b[0m\n\u001b[1;32m    497\u001b[0m         chunked\u001b[38;5;241m=\u001b[39mchunked,\n\u001b[1;32m    498\u001b[0m     )\n\u001b[1;32m    500\u001b[0m \u001b[38;5;28;01mexcept\u001b[39;00m (ProtocolError, \u001b[38;5;167;01mOSError\u001b[39;00m) \u001b[38;5;28;01mas\u001b[39;00m err:\n\u001b[0;32m--> 501\u001b[0m     \u001b[38;5;28;01mraise\u001b[39;00m \u001b[38;5;167;01mConnectionError\u001b[39;00m(err, request\u001b[38;5;241m=\u001b[39mrequest)\n\u001b[1;32m    503\u001b[0m \u001b[38;5;28;01mexcept\u001b[39;00m MaxRetryError \u001b[38;5;28;01mas\u001b[39;00m e:\n\u001b[1;32m    504\u001b[0m     \u001b[38;5;28;01mif\u001b[39;00m \u001b[38;5;28misinstance\u001b[39m(e\u001b[38;5;241m.\u001b[39mreason, ConnectTimeoutError):\n\u001b[1;32m    505\u001b[0m         \u001b[38;5;66;03m# TODO: Remove this in 3.0.0: see #2811\u001b[39;00m\n",
      "\u001b[0;31mConnectionError\u001b[0m: ('Connection aborted.', RemoteDisconnected('Remote end closed connection without response'))"
     ]
    }
   ],
   "source": [
    "import requests\n",
    "from bs4 import BeautifulSoup\n",
    "import newspaper\n",
    "from newspaper import Article\n",
    "import ast\n",
    "import google.generativeai as genai\n",
    "from google.generativeai import GenerationConfig\n",
    "\n",
    "GEMINI_MODEL = \"gemini-1.5-pro-latest\"\n",
    "GEMINI_API_KEY = \"\"  # Replace with your Gemini API key\n",
    "SERP_API_KEY = \"\"  # Replace with your SERP API key\n",
    "\n",
    "genai.configure(api_key=GEMINI_API_KEY, transport='rest')\n",
    "safety_settings = [\n",
    "    {\n",
    "        \"category\": \"HARM_CATEGORY_DANGEROUS\",\n",
    "        \"threshold\": \"BLOCK_NONE\",\n",
    "    },\n",
    "    {\n",
    "        \"category\": \"HARM_CATEGORY_HARASSMENT\",\n",
    "        \"threshold\": \"BLOCK_NONE\",\n",
    "    },\n",
    "    {\n",
    "        \"category\": \"HARM_CATEGORY_HATE_SPEECH\",\n",
    "        \"threshold\": \"BLOCK_NONE\",\n",
    "    },\n",
    "    {\n",
    "        \"category\": \"HARM_CATEGORY_SEXUALLY_EXPLICIT\",\n",
    "        \"threshold\": \"BLOCK_NONE\",\n",
    "    },\n",
    "    {\n",
    "        \"category\": \"HARM_CATEGORY_DANGEROUS_CONTENT\",\n",
    "        \"threshold\": \"BLOCK_NONE\",\n",
    "    },\n",
    "]\n",
    "generation_config = GenerationConfig(candidate_count=1, stop_sequences=None, max_output_tokens=None, temperature=0.5, top_p=0.9, top_k=40)\n",
    "\n",
    "requests.adapters.DEFAULT_RETRIES = 3;\n",
    "session = requests.session()\n",
    "\n",
    "def get_search_terms(topic):\n",
    "    term_count = 3;\n",
    "    system_prompt = f\"You are a world-class journalist. Generate a list of {term_count} search terms to search for to research and write an article about the topic.\"\n",
    "    prompt = f\"Please provide a list of {term_count} search terms related to '{topic}' for researching and writing an article. Respond with the search terms in a Python-parseable list, separated by commas.\"\n",
    "\n",
    "    model = genai.GenerativeModel(model_name=GEMINI_MODEL, safety_settings=safety_settings, system_instruction=system_prompt)\n",
    "    response = model.generate_content(prompt, generation_config=generation_config)\n",
    "    response_text = response.candidates[0].content.parts[0].text\n",
    "    response_data = response_text.strip().removeprefix(\"```python\").removesuffix(\"```\")\n",
    "\n",
    "    search_terms = ast.literal_eval(response_data)\n",
    "    return search_terms\n",
    "\n",
    "def get_search_results(search_term):\n",
    "    url = f\"https://serpapi.com/search.json?q={search_term}&api_key={SERP_API_KEY}\"\n",
    "    headers = {'Connection': 'close'}\n",
    "    try:\n",
    "        response = session.get(url, headers=headers, verify=False)\n",
    "    except:\n",
    "        response = session.get(url, headers=headers, verify=False)\n",
    "    data = response.json()\n",
    "    return data['organic_results']\n",
    "\n",
    "def select_relevant_urls(search_results):\n",
    "    system_prompt = \"You are a journalist assistant. From the given search results, select the URLs that seem most relevant and informative for writing an article on the topic.\"\n",
    "    search_results_text = \"\\n\".join([f\"{i+1}. {result['link']}\" for i, result in enumerate(search_results)])\n",
    "    prompt = f\"Search Results:\\n{search_results_text}\\n\\nPlease select the numbers of the URLs that seem most relevant and informative for writing an article on the topic. Respond with the numbers in a Python-parseable list, separated by commas.\"\n",
    "\n",
    "    model = genai.GenerativeModel(model_name=GEMINI_MODEL, safety_settings=safety_settings, system_instruction=system_prompt)\n",
    "    response = model.generate_content(prompt, generation_config=generation_config)\n",
    "    response_text = response.candidates[0].content.parts[0].text\n",
    "    response_data = response_text.strip().removeprefix(\"```python\").removesuffix(\"```\")\n",
    "\n",
    "    numbers = ast.literal_eval(response_data)\n",
    "    relevant_indices = [int(num) - 1 for num in numbers]\n",
    "    relevant_urls = [search_results[i]['link'] for i in relevant_indices]\n",
    "\n",
    "    return relevant_urls\n",
    "\n",
    "def get_article_text(url):\n",
    "    article = Article(url)\n",
    "    article.download()\n",
    "    article.parse()\n",
    "    return article.text\n",
    "\n",
    "def write_article(topic, article_texts):\n",
    "    system_prompt = \"You are a journalist. Write a high-quality, NYT-worthy article on the given topic based on the provided article texts. The article should be well-structured, informative, and engaging.\"\n",
    "    combined_text = \"\\n\\n\".join(article_texts)\n",
    "    prompt = f\"Topic: {topic}\\n\\nArticle Texts:\\n{combined_text}\\n\\nPlease write a high-quality, NYT-worthy article on the topic based on the provided article texts. The article should be well-structured, informative, and engaging. Ensure the length is at least as long as a NYT cover story -- at a minimum, 15 paragraphs.\"\n",
    "\n",
    "    model = genai.GenerativeModel(model_name=GEMINI_MODEL, safety_settings=safety_settings, system_instruction=system_prompt)\n",
    "    response = model.generate_content(prompt, generation_config=generation_config)\n",
    "    response_text = response.candidates[0].content.parts[0].text\n",
    "\n",
    "    article = response_text\n",
    "    return article\n",
    "\n",
    "def edit_article(article):\n",
    "    system_prompt = \"You are an editor. Review the given article and provide suggestions for improvement. Focus on clarity, coherence, and overall quality.\"\n",
    "    prompt = f\"Article:\\n{article}\\n\\nPlease review the article and provide suggestions for improvement. Focus on clarity, coherence, and overall quality.\"\n",
    "\n",
    "    model = genai.GenerativeModel(model_name=GEMINI_MODEL, safety_settings=safety_settings, system_instruction=system_prompt)\n",
    "    response = model.generate_content(prompt, generation_config=generation_config)\n",
    "    response_text = response.candidates[0].content.parts[0].text\n",
    "    response_data = response_text.strip().removeprefix(\"```python\").removesuffix(\"```\")\n",
    "\n",
    "    suggestions = response_data\n",
    "\n",
    "    system_prompt = \"You are an editor. Rewrite the given article based on the provided suggestions for improvement.\"\n",
    "    prompt = f\"Original Article:\\n{article}\\n\\nSuggestions for Improvement:\\n{suggestions}\\n\\nPlease rewrite the article based on the provided suggestions for improvement.\"\n",
    "\n",
    "    model = genai.GenerativeModel(model_name=GEMINI_MODEL, safety_settings=safety_settings, system_instruction=system_prompt)\n",
    "    response = model.generate_content(prompt, generation_config=generation_config)\n",
    "    response_text = response.candidates[0].content.parts[0].text\n",
    "    response_data = response_text.strip().removeprefix(\"```python\").removesuffix(\"```\")\n",
    "\n",
    "    edited_article = response_data\n",
    "    return edited_article\n",
    "\n",
    "# User input\n",
    "topic = input(\"Enter a topic to write about: \")\n",
    "do_edit = input(\"After the initial draft, do you want an automatic edit? This may improve performance, but is slightly unreliable. Answer 'yes' or 'no'.\")\n",
    "\n",
    "# Generate search terms\n",
    "search_terms = get_search_terms(topic)\n",
    "print(f\"\\nSearch Terms for '{topic}':\")\n",
    "print(\", \".join(search_terms))\n",
    "\n",
    "# Perform searches and select relevant URLs\n",
    "relevant_urls = []\n",
    "for term in search_terms:\n",
    "    search_results = get_search_results(term)\n",
    "    urls = select_relevant_urls(search_results)\n",
    "    relevant_urls.extend(urls)\n",
    "\n",
    "print('Relevant URLs to read:', relevant_urls)\n",
    "\n",
    "\n",
    "# Get article text from relevant URLs\n",
    "article_texts = []\n",
    "for url in relevant_urls:\n",
    "  try:\n",
    "    text = get_article_text(url)\n",
    "    if len(text) > 75:\n",
    "      article_texts.append(text)\n",
    "  except:\n",
    "    pass\n",
    "\n",
    "print('Articles to reference:', article_texts)\n",
    "\n",
    "print('\\n\\nWriting article...')\n",
    "# Write the article\n",
    "article = write_article(topic, article_texts)\n",
    "print(\"\\nGenerated Article:\")\n",
    "print(article)\n",
    "\n",
    "if 'y' in do_edit:\n",
    "  # Edit the article\n",
    "  edited_article = edit_article(article)\n",
    "  print(\"\\nEdited Article:\")\n",
    "  print(edited_article)"
   ]
  },
  {
   "cell_type": "code",
   "execution_count": null,
   "metadata": {},
   "outputs": [],
   "source": []
  }
 ],
 "metadata": {
  "colab": {
   "authorship_tag": "ABX9TyNFl8iwnrTusJCiB22sgXKk",
   "include_colab_link": true,
   "provenance": []
  },
  "kernelspec": {
   "display_name": "Python 3 (ipykernel)",
   "language": "python",
   "name": "python3"
  },
  "language_info": {
   "codemirror_mode": {
    "name": "ipython",
    "version": 3
   },
   "file_extension": ".py",
   "mimetype": "text/x-python",
   "name": "python",
   "nbconvert_exporter": "python",
   "pygments_lexer": "ipython3",
   "version": "3.11.7"
  }
 },
 "nbformat": 4,
 "nbformat_minor": 4
}
